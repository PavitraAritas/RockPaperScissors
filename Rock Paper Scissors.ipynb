{
 "cells": [
  {
   "cell_type": "code",
   "execution_count": 9,
   "metadata": {},
   "outputs": [],
   "source": [
    "import csv\n",
    "import numpy as np\n",
    "import tensorflow as tf\n",
    "from tensorflow.keras.preprocessing.image import ImageDataGenerator\n",
    "from tensorflow.keras import optimizers "
   ]
  },
  {
   "cell_type": "code",
   "execution_count": 3,
   "metadata": {},
   "outputs": [
    {
     "name": "stdout",
     "output_type": "stream",
     "text": [
      "(27455, 28, 28)\n",
      "(27455,)\n",
      "(7172, 28, 28)\n",
      "(7172,)\n"
     ]
    }
   ],
   "source": [
    "def get_data(filename):\n",
    "    with open(filename) as training_file:\n",
    "        csv_reader = csv.reader(training_file, delimiter=',')\n",
    "        first_line = True\n",
    "        temp_images = []\n",
    "        temp_labels = []\n",
    "        for row in csv_reader:\n",
    "            if first_line:\n",
    "                # print(\"Ignoring first line\")\n",
    "                first_line = False\n",
    "            else:\n",
    "                temp_labels.append(row[0])\n",
    "                image_data = row[1:785]\n",
    "                image_data_as_array = np.array_split(image_data, 28)\n",
    "                temp_images.append(image_data_as_array)\n",
    "        images = np.array(temp_images).astype('float')\n",
    "        labels = np.array(temp_labels).astype('float')\n",
    "    return images, labels\n",
    "\n",
    "\n",
    "training_images, training_labels = get_data('sign_mnist_train.csv')\n",
    "testing_images, testing_labels = get_data('sign_mnist_test.csv')\n",
    "\n",
    "print(training_images.shape)\n",
    "print(training_labels.shape)\n",
    "print(testing_images.shape)\n",
    "print(testing_labels.shape)\n"
   ]
  },
  {
   "cell_type": "code",
   "execution_count": 4,
   "metadata": {},
   "outputs": [
    {
     "name": "stdout",
     "output_type": "stream",
     "text": [
      "(27455, 28, 28, 1)\n",
      "(7172, 28, 28, 1)\n"
     ]
    }
   ],
   "source": [
    "training_images = np.expand_dims(training_images, axis=3)\n",
    "testing_images = np.expand_dims(testing_images, axis=3)\n",
    "\n",
    "train_datagen = ImageDataGenerator(\n",
    "    rescale=1. / 255,\n",
    "    rotation_range=40,\n",
    "    width_shift_range=0.2,\n",
    "    height_shift_range=0.2,\n",
    "    shear_range=0.2,\n",
    "    zoom_range=0.2,\n",
    "    horizontal_flip=True,\n",
    "    fill_mode='nearest')\n",
    "\n",
    "validation_datagen = ImageDataGenerator(\n",
    "    rescale=1. / 255)\n",
    "\n",
    "print(training_images.shape)\n",
    "print(testing_images.shape)"
   ]
  },
  {
   "cell_type": "code",
   "execution_count": 11,
   "metadata": {},
   "outputs": [
    {
     "name": "stdout",
     "output_type": "stream",
     "text": [
      "Epoch 1/15\n",
      "858/857 [==============================] - 43s 50ms/step - loss: 2.8148 - acc: 0.1451 - val_loss: 2.1766 - val_acc: 0.3118\n",
      "Epoch 2/15\n",
      "858/857 [==============================] - 43s 50ms/step - loss: 2.0473 - acc: 0.3549 - val_loss: 1.4318 - val_acc: 0.5238\n",
      "Epoch 3/15\n",
      "858/857 [==============================] - 41s 48ms/step - loss: 1.6730 - acc: 0.4617 - val_loss: 1.0278 - val_acc: 0.6627\n",
      "Epoch 4/15\n",
      "858/857 [==============================] - 43s 50ms/step - loss: 1.4387 - acc: 0.5347 - val_loss: 0.9661 - val_acc: 0.6832\n",
      "Epoch 5/15\n",
      "858/857 [==============================] - 40s 47ms/step - loss: 1.2789 - acc: 0.5846 - val_loss: 0.7557 - val_acc: 0.7464\n",
      "Epoch 6/15\n",
      "858/857 [==============================] - 42s 49ms/step - loss: 1.1483 - acc: 0.6280 - val_loss: 0.6893 - val_acc: 0.7652\n",
      "Epoch 7/15\n",
      "858/857 [==============================] - 43s 50ms/step - loss: 1.0674 - acc: 0.6463 - val_loss: 0.5681 - val_acc: 0.8123\n",
      "Epoch 8/15\n",
      "858/857 [==============================] - 43s 50ms/step - loss: 0.9864 - acc: 0.6749 - val_loss: 0.5519 - val_acc: 0.8161\n",
      "Epoch 9/15\n",
      "858/857 [==============================] - 41s 48ms/step - loss: 0.9256 - acc: 0.6929 - val_loss: 0.4372 - val_acc: 0.8450\n",
      "Epoch 10/15\n",
      "858/857 [==============================] - 42s 49ms/step - loss: 0.8702 - acc: 0.7111 - val_loss: 0.5596 - val_acc: 0.8161\n",
      "Epoch 11/15\n",
      "858/857 [==============================] - 41s 47ms/step - loss: 0.8045 - acc: 0.7330 - val_loss: 0.4838 - val_acc: 0.8390\n",
      "Epoch 12/15\n",
      "858/857 [==============================] - 44s 51ms/step - loss: 0.7850 - acc: 0.7373 - val_loss: 0.3898 - val_acc: 0.8692\n",
      "Epoch 13/15\n",
      "858/857 [==============================] - 42s 49ms/step - loss: 0.7470 - acc: 0.7505 - val_loss: 0.4548 - val_acc: 0.8419\n",
      "Epoch 14/15\n",
      "858/857 [==============================] - 43s 50ms/step - loss: 0.7143 - acc: 0.7608 - val_loss: 0.4215 - val_acc: 0.8558\n",
      "Epoch 15/15\n",
      "858/857 [==============================] - 41s 48ms/step - loss: 0.6872 - acc: 0.7713 - val_loss: 0.3378 - val_acc: 0.8875\n",
      "7172/7172 [==============================] - 4s 561us/sample - loss: 154.4213 - acc: 0.6518\n"
     ]
    },
    {
     "data": {
      "text/plain": [
       "[154.42131806696452, 0.6518405]"
      ]
     },
     "execution_count": 11,
     "metadata": {},
     "output_type": "execute_result"
    }
   ],
   "source": [
    "model = tf.keras.models.Sequential([\n",
    "    tf.keras.layers.Conv2D(64, (3, 3), activation='relu', input_shape=(28, 28, 1)),\n",
    "    tf.keras.layers.MaxPooling2D(2, 2),\n",
    "    tf.keras.layers.Conv2D(64, (3, 3), activation='relu'),\n",
    "    tf.keras.layers.MaxPooling2D(2, 2),\n",
    "    tf.keras.layers.Flatten(),\n",
    "    tf.keras.layers.Dense(128, activation=tf.nn.relu),\n",
    "    tf.keras.layers.Dense(26, activation=tf.nn.softmax)])\n",
    "\n",
    "model.compile(optimizer = 'adam',\n",
    "              loss = 'sparse_categorical_crossentropy',\n",
    "              metrics=['accuracy'])\n",
    "\n",
    "history = model.fit(train_datagen.flow(training_images, training_labels, batch_size=32),\n",
    "                              steps_per_epoch=len(training_images) / 32,\n",
    "                              epochs=15,\n",
    "                              validation_data=validation_datagen.flow(testing_images, testing_labels, batch_size=32),\n",
    "                              validation_steps=len(testing_images) / 32)\n",
    "\n",
    "model.evaluate(testing_images, testing_labels)\n"
   ]
  },
  {
   "cell_type": "code",
   "execution_count": 14,
   "metadata": {},
   "outputs": [
    {
     "data": {
      "image/png": "[encoded data removed]",
      "text/plain": [
       "<Figure size 432x288 with 1 Axes>"
      ]
     },
     "metadata": {
      "needs_background": "light"
     },
     "output_type": "display_data"
    },
    {
     "data": {
      "image/png": "[encoded data removed]",
      "text/plain": [
       "<Figure size 432x288 with 1 Axes>"
      ]
     },
     "metadata": {
      "needs_background": "light"
     },
     "output_type": "display_data"
    }
   ],
   "source": [
    "import matplotlib.pyplot as plt\n",
    "acc = history.history['acc']\n",
    "val_acc = history.history['val_acc']\n",
    "loss = history.history['loss']\n",
    "val_loss = history.history['val_loss']\n",
    "\n",
    "epochs = range(len(acc))\n",
    "\n",
    "plt.plot(epochs, acc, 'r', label='Training accuracy')\n",
    "plt.plot(epochs, val_acc, 'b', label='Validation accuracy')\n",
    "plt.title('Training and validation accuracy')\n",
    "plt.legend()\n",
    "plt.figure()\n",
    "\n",
    "plt.plot(epochs, loss, 'r', label='Training Loss')\n",
    "plt.plot(epochs, val_loss, 'b', label='Validation Loss')\n",
    "plt.title('Training and validation loss')\n",
    "plt.legend()\n",
    "\n",
    "plt.show()"
   ]
  },
  {
   "cell_type": "code",
   "execution_count": null,
   "metadata": {},
   "outputs": [],
   "source": []
  }
 ],
 "metadata": {
  "kernelspec": {
   "display_name": "Python 3",
   "language": "python",
   "name": "python3"
  },
  "language_info": {
   "codemirror_mode": {
    "name": "ipython",
    "version": 3
   },
   "file_extension": ".py",
   "mimetype": "text/x-python",
   "name": "python",
   "nbconvert_exporter": "python",
   "pygments_lexer": "ipython3",
   "version": "3.7.3"
  }
 },
 "nbformat": 4,
 "nbformat_minor": 2
}
